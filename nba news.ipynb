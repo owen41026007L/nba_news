{
 "cells": [
  {
   "cell_type": "code",
   "execution_count": 1,
   "id": "cb455af7",
   "metadata": {},
   "outputs": [
    {
     "ename": "SyntaxError",
     "evalue": "invalid decimal literal (4026195463.py, line 1)",
     "output_type": "error",
     "traceback": [
      "\u001b[1;36m  Cell \u001b[1;32mIn[1], line 1\u001b[1;36m\u001b[0m\n\u001b[1;33m    HEARDERS = {'User-Agent': Mozilla/5.0 (Windows NT 10.0； Win64； x64) Applewebki}\u001b[0m\n\u001b[1;37m                                                         ^\u001b[0m\n\u001b[1;31mSyntaxError\u001b[0m\u001b[1;31m:\u001b[0m invalid decimal literal\n"
     ]
    }
   ],
   "source": [
    "HEARDERS = {'User-Agent': Mozilla/5.0 (Windows NT 10.0； Win64； x64) Applewebki}\n",
    "url = 'https://tw-nba.udn.com/nba/cate/6754'\n",
    "r = requests.get(url, headers=HEADERS)\n",
    "\n",
    "soup = BeautifulSoup(r.text, features='lxml')\n",
    "news_list = soup.select('.story-list_news')\n",
    "print(f'共抓到 {len(news_list)} 篇新聞')"
   ]
  },
  {
   "cell_type": "code",
   "execution_count": null,
   "id": "dd3c4ef7",
   "metadata": {},
   "outputs": [],
   "source": []
  }
 ],
 "metadata": {
  "kernelspec": {
   "display_name": "Python 3 (ipykernel)",
   "language": "python",
   "name": "python3"
  },
  "language_info": {
   "codemirror_mode": {
    "name": "ipython",
    "version": 3
   },
   "file_extension": ".py",
   "mimetype": "text/x-python",
   "name": "python",
   "nbconvert_exporter": "python",
   "pygments_lexer": "ipython3",
   "version": "3.11.4"
  }
 },
 "nbformat": 4,
 "nbformat_minor": 5
}
